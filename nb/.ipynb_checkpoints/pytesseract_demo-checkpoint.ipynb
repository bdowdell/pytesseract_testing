{
 "cells": [
  {
   "cell_type": "markdown",
   "metadata": {},
   "source": [
    "# This notebook is a demo of pytesseract and opencv #"
   ]
  },
  {
   "cell_type": "markdown",
   "metadata": {},
   "source": [
    "I came across a [tweet](https://twitter.com/python_devv/status/1195531242537652224?s=20) from Python Programmers (@python_devv) this morning pointing to a link to extract text from an image in one line!  I wanted to try this myself.\n",
    "\n",
    "[Python|Read Text from Image with One Line of Code](https://morioh.com/p/177cde94de0e)\n",
    "\n",
    "I started by making a new conda environment called pytesseract (environment.yml available on my github page).\n",
    "\n",
    "Lets see how it goes!"
   ]
  },
  {
   "cell_type": "code",
   "execution_count": 1,
   "metadata": {},
   "outputs": [],
   "source": [
    "import cv2\n",
    "import pytesseract"
   ]
  },
  {
   "cell_type": "markdown",
   "metadata": {},
   "source": [
    "Load an image using cv2.imread"
   ]
  },
  {
   "cell_type": "code",
   "execution_count": 2,
   "metadata": {},
   "outputs": [],
   "source": [
    "img_amp_plot = cv2.imread('../images/demo/ampplot.png')"
   ]
  },
  {
   "cell_type": "markdown",
   "metadata": {},
   "source": [
    "**This image is from a Python utility I built for seismic tuning wedge analysis.  It looks like this:**"
   ]
  },
  {
   "cell_type": "markdown",
   "metadata": {},
   "source": [
    "<img src=\"../images/demo/ampplot.png\">"
   ]
  },
  {
   "cell_type": "markdown",
   "metadata": {},
   "source": [
    "Let's see what what cv2.imread does to the image file"
   ]
  },
  {
   "cell_type": "code",
   "execution_count": 3,
   "metadata": {},
   "outputs": [
    {
     "data": {
      "text/plain": [
       "numpy.ndarray"
      ]
     },
     "execution_count": 3,
     "metadata": {},
     "output_type": "execute_result"
    }
   ],
   "source": [
    "type(img_amp_plot)"
   ]
  },
  {
   "cell_type": "code",
   "execution_count": 4,
   "metadata": {},
   "outputs": [
    {
     "data": {
      "text/plain": [
       "(1950, 4690, 3)"
      ]
     },
     "execution_count": 4,
     "metadata": {},
     "output_type": "execute_result"
    }
   ],
   "source": [
    "img_amp_plot.shape"
   ]
  },
  {
   "cell_type": "markdown",
   "metadata": {},
   "source": [
    "Ok, so it is a numpy array and the dimensions are the pixels and RGB channels.\n",
    "\n",
    "Now, use pytesseract.image_to_string to get the text from the plot"
   ]
  },
  {
   "cell_type": "code",
   "execution_count": 5,
   "metadata": {},
   "outputs": [],
   "source": [
    "text_amp_plot = pytesseract.image_to_string(img_amp_plot)"
   ]
  },
  {
   "cell_type": "code",
   "execution_count": 6,
   "metadata": {},
   "outputs": [
    {
     "name": "stdout",
     "output_type": "stream",
     "text": [
      "100\n",
      "\n",
      "75\n",
      "\n",
      "50\n",
      "\n",
      "— Tuning Curve (top)\n",
      "— Measured Tuning Thickness 10ms TWT\n",
      "— - Measured Onset of Tuning 21ms TWT 2 5\n",
      "\n",
      "— True thickness ms TWT\n",
      "\n",
      " \n",
      "\n",
      "— Apparent thickness ms TWT O\n",
      "\n",
      "O 20 4O 60 80 100\n"
     ]
    }
   ],
   "source": [
    "print(text_amp_plot)"
   ]
  },
  {
   "cell_type": "markdown",
   "metadata": {},
   "source": [
    "*Not bad!*\n",
    "\n",
    "pytesseract didn't do so hot with the vertical axes, but it got the legend entries and the horizontal axis text"
   ]
  },
  {
   "cell_type": "markdown",
   "metadata": {},
   "source": [
    "Let's find out more about text_amp_plot"
   ]
  },
  {
   "cell_type": "code",
   "execution_count": 7,
   "metadata": {},
   "outputs": [
    {
     "data": {
      "text/plain": [
       "190"
      ]
     },
     "execution_count": 7,
     "metadata": {},
     "output_type": "execute_result"
    }
   ],
   "source": [
    "len(text_amp_plot)"
   ]
  },
  {
   "cell_type": "code",
   "execution_count": 8,
   "metadata": {},
   "outputs": [
    {
     "data": {
      "text/plain": [
       "'100\\n\\n75\\n\\n50\\n\\n— Tuning Curve (top)\\n— Measured Tuning Thickness 10ms TWT\\n— - Measured Onset of Tuning 21ms TWT 2 5\\n\\n— True thickness ms TWT\\n\\n \\n\\n— Apparent thickness ms TWT O\\n\\nO 20 4O 60 80 100'"
      ]
     },
     "execution_count": 8,
     "metadata": {},
     "output_type": "execute_result"
    }
   ],
   "source": [
    "text_amp_plot"
   ]
  },
  {
   "cell_type": "markdown",
   "metadata": {},
   "source": [
    "It appears that vertical white space is being treated as newlines.  That makes sense.  What is interesting is how additional newlines are inserted in the legend entries which have no apparent increase in vertical white space"
   ]
  },
  {
   "cell_type": "markdown",
   "metadata": {},
   "source": [
    "**Let's try another example.**\n",
    "\n",
    "This is a picture of my 1991 Porsche 911.  It has had some image filtering applied.  I want to see if it can read the word \"Carrera\".\n",
    "\n",
    "<img src=\"../images/demo/IMG_0808.JPG\">"
   ]
  },
  {
   "cell_type": "code",
   "execution_count": 9,
   "metadata": {},
   "outputs": [],
   "source": [
    "img_car = cv2.imread(\"../images/demo/IMG_0808.JPG\")"
   ]
  },
  {
   "cell_type": "code",
   "execution_count": 10,
   "metadata": {},
   "outputs": [],
   "source": [
    "text_car = pytesseract.image_to_string(img_car)"
   ]
  },
  {
   "cell_type": "code",
   "execution_count": 11,
   "metadata": {},
   "outputs": [
    {
     "name": "stdout",
     "output_type": "stream",
     "text": [
      "\n"
     ]
    }
   ],
   "source": [
    "print(text_car)"
   ]
  },
  {
   "cell_type": "code",
   "execution_count": 12,
   "metadata": {},
   "outputs": [
    {
     "data": {
      "text/plain": [
       "0"
      ]
     },
     "execution_count": 12,
     "metadata": {},
     "output_type": "execute_result"
    }
   ],
   "source": [
    "len(text_car)"
   ]
  },
  {
   "cell_type": "markdown",
   "metadata": {},
   "source": [
    "**Womp womp, no luck**\n",
    "\n",
    "Probably need to fiddle with some parameters"
   ]
  },
  {
   "cell_type": "markdown",
   "metadata": {},
   "source": [
    "**Another example, this time more text-based**\n",
    "<img src=\"../images/demo/IMG_0827.JPG\">"
   ]
  },
  {
   "cell_type": "markdown",
   "metadata": {},
   "source": [
    "Interesting... let's see if it can handle a rotated image..."
   ]
  },
  {
   "cell_type": "code",
   "execution_count": 13,
   "metadata": {},
   "outputs": [],
   "source": [
    "img_alignmnet = cv2.imread(\"../images/demo/IMG_0827.JPG\")"
   ]
  },
  {
   "cell_type": "code",
   "execution_count": 14,
   "metadata": {},
   "outputs": [],
   "source": [
    "text_alignment = pytesseract.image_to_string(img_alignmnet)"
   ]
  },
  {
   "cell_type": "code",
   "execution_count": 15,
   "metadata": {},
   "outputs": [
    {
     "name": "stdout",
     "output_type": "stream",
     "text": [
      "14.3.18 1 5:52\n",
      "\n",
      "Porsche 1991 911 Carrera RS (Modified Specification)\n",
      "4-Wheel TotalAlngment\n",
      "\n",
      "Before Measurements\n",
      "\n",
      "RI::::M 1\n",
      "mg\n",
      "\n",
      "    \n",
      "\n",
      "i\n",
      "\n",
      "i\n",
      "\n",
      "! -o.05‘ 0.05\" W\n",
      "1 0 . 09°\n",
      "\n",
      "i Steer Ahead\n"
     ]
    }
   ],
   "source": [
    "print(text_alignment)"
   ]
  },
  {
   "cell_type": "markdown",
   "metadata": {},
   "source": [
    "**Eh, it started promising and then fell flat**\n",
    "\n",
    "Clearly this is not an out-of-the-box solution.  Additional work is needed!"
   ]
  },
  {
   "cell_type": "markdown",
   "metadata": {},
   "source": [
    "*What happens if the image is roated?*\n",
    "<img src=\"../images/demo/IMG_0827_rotated.JPG\">"
   ]
  },
  {
   "cell_type": "code",
   "execution_count": 16,
   "metadata": {},
   "outputs": [],
   "source": [
    "img_alignment_rot = cv2.imread(\"../images/demo/IMG_0827_rotated.JPG\")"
   ]
  },
  {
   "cell_type": "code",
   "execution_count": 17,
   "metadata": {},
   "outputs": [],
   "source": [
    "text_alignment_rot = pytesseract.image_to_string(img_alignment_rot)"
   ]
  },
  {
   "cell_type": "code",
   "execution_count": 18,
   "metadata": {},
   "outputs": [
    {
     "name": "stdout",
     "output_type": "stream",
     "text": [
      "Abba—m ‘— mumN\n",
      "\n",
      "roan—5 3a.. m: 0233 mm 22.5% mumnﬁomzoa\n",
      "$233. ...o§b=b=3a=W\n",
      "\n",
      "macs gmmmcaawam\n",
      "\n",
      "  \n",
      "\n",
      "EN... 13:.\n",
      "03.62 ﬁg\n"
     ]
    }
   ],
   "source": [
    "print(text_alignment_rot)"
   ]
  },
  {
   "cell_type": "markdown",
   "metadata": {},
   "source": [
    "**YIKES!**\n",
    "*That was considerably worse*"
   ]
  },
  {
   "cell_type": "code",
   "execution_count": 19,
   "metadata": {},
   "outputs": [
    {
     "data": {
      "text/plain": [
       "\u001b[0;31mSignature:\u001b[0m\n",
       "\u001b[0mpytesseract\u001b[0m\u001b[0;34m.\u001b[0m\u001b[0mimage_to_string\u001b[0m\u001b[0;34m(\u001b[0m\u001b[0;34m\u001b[0m\n",
       "\u001b[0;34m\u001b[0m    \u001b[0mimage\u001b[0m\u001b[0;34m,\u001b[0m\u001b[0;34m\u001b[0m\n",
       "\u001b[0;34m\u001b[0m    \u001b[0mlang\u001b[0m\u001b[0;34m=\u001b[0m\u001b[0;32mNone\u001b[0m\u001b[0;34m,\u001b[0m\u001b[0;34m\u001b[0m\n",
       "\u001b[0;34m\u001b[0m    \u001b[0mconfig\u001b[0m\u001b[0;34m=\u001b[0m\u001b[0;34m''\u001b[0m\u001b[0;34m,\u001b[0m\u001b[0;34m\u001b[0m\n",
       "\u001b[0;34m\u001b[0m    \u001b[0mnice\u001b[0m\u001b[0;34m=\u001b[0m\u001b[0;36m0\u001b[0m\u001b[0;34m,\u001b[0m\u001b[0;34m\u001b[0m\n",
       "\u001b[0;34m\u001b[0m    \u001b[0moutput_type\u001b[0m\u001b[0;34m=\u001b[0m\u001b[0;34m'string'\u001b[0m\u001b[0;34m,\u001b[0m\u001b[0;34m\u001b[0m\n",
       "\u001b[0;34m\u001b[0m    \u001b[0mtimeout\u001b[0m\u001b[0;34m=\u001b[0m\u001b[0;36m0\u001b[0m\u001b[0;34m,\u001b[0m\u001b[0;34m\u001b[0m\n",
       "\u001b[0;34m\u001b[0m\u001b[0;34m)\u001b[0m\u001b[0;34m\u001b[0m\u001b[0;34m\u001b[0m\u001b[0m\n",
       "\u001b[0;31mDocstring:\u001b[0m Returns the result of a Tesseract OCR run on the provided image to string\n",
       "\u001b[0;31mFile:\u001b[0m      ~/anaconda3/envs/pytesseract/lib/python3.7/site-packages/pytesseract/pytesseract.py\n",
       "\u001b[0;31mType:\u001b[0m      function\n"
      ]
     },
     "metadata": {},
     "output_type": "display_data"
    }
   ],
   "source": [
    "pytesseract.image_to_string?"
   ]
  },
  {
   "cell_type": "code",
   "execution_count": null,
   "metadata": {},
   "outputs": [],
   "source": []
  }
 ],
 "metadata": {
  "kernelspec": {
   "display_name": "pytesseract",
   "language": "python",
   "name": "pytesseract"
  },
  "language_info": {
   "codemirror_mode": {
    "name": "ipython",
    "version": 3
   },
   "file_extension": ".py",
   "mimetype": "text/x-python",
   "name": "python",
   "nbconvert_exporter": "python",
   "pygments_lexer": "ipython3",
   "version": "3.7.5"
  }
 },
 "nbformat": 4,
 "nbformat_minor": 4
}
